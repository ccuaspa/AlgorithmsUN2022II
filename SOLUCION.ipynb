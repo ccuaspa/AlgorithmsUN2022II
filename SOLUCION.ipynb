{
  "nbformat": 4,
  "nbformat_minor": 0,
  "metadata": {
    "colab": {
      "provenance": [],
      "authorship_tag": "ABX9TyNm1MDOXgJfT04nWWIUn2bV",
      "include_colab_link": true
    },
    "kernelspec": {
      "name": "python3",
      "display_name": "Python 3"
    },
    "language_info": {
      "name": "python"
    }
  },
  "cells": [
    {
      "cell_type": "markdown",
      "metadata": {
        "id": "view-in-github",
        "colab_type": "text"
      },
      "source": [
        "<a href=\"https://colab.research.google.com/github/ccuaspa/AlgorithmsUN2022II/blob/main/SOLUCION.ipynb\" target=\"_parent\"><img src=\"https://colab.research.google.com/assets/colab-badge.svg\" alt=\"Open In Colab\"/></a>"
      ]
    },
    {
      "cell_type": "code",
      "execution_count": null,
      "metadata": {
        "id": "oZbCCdi6Vrk7"
      },
      "outputs": [],
      "source": [
        "a, b = map(int, input().split())\n",
        "def cf(num1,num2):\n",
        "    n=[]\n",
        "    for i in range(1, min(num1, num2)+1):\n",
        "        if num1%i==num2%i==0:\n",
        "            n.append(i)\n",
        "    return n\n",
        "   \n",
        "querys = int(input())\n",
        "\n",
        "for i in querys:\n",
        "    start, stop = map(int, input().split())\n",
        "    g_number = -1\n",
        "    for i in list:\n",
        "        if i in range(start, stop):\n",
        "            g_number = i\n",
        "    print(g_number)\n"
      ]
    }
  ]
}